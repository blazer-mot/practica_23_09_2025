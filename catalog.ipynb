{
 "cells": [
  {
   "cell_type": "code",
   "execution_count": 2,
   "id": "82c739a3",
   "metadata": {},
   "outputs": [],
   "source": [
    "from selenium import webdriver\n",
    "from selenium.webdriver.common.by import By\n",
    "from selenium.webdriver.common.keys import Keys\n",
    "import pandas as pd\n",
    "import time\n",
    "from bs4 import BeautifulSoup\n",
    "from selenium.webdriver.support.ui import WebDriverWait\n",
    "from selenium.webdriver.support import expected_conditions as EC\n",
    "from selenium.webdriver.chrome.options import Options\n",
    "from selenium.webdriver.chrome.service import Service"
   ]
  },
  {
   "cell_type": "code",
   "execution_count": 87,
   "id": "b8280413",
   "metadata": {},
   "outputs": [],
   "source": [
    "from selenium import webdriver\n",
    "\n",
    "driver=webdriver.Chrome()\n",
    "\n",
    "driver.get(\"https://catalog.onliner.by/mobile\")"
   ]
  },
  {
   "cell_type": "code",
   "execution_count": 95,
   "id": "e260e370",
   "metadata": {},
   "outputs": [],
   "source": [
    "# Собираем все ссылки на объявления с выбранной страницы\n",
    "def get_all_links_on_page():\n",
    "    elements = driver.find_elements(By.CLASS_NAME, value='catalog-form__link')\n",
    "    # elements = driver.find_elements(by=By.CSS_SELECTOR, value=\"#container > div > div > div > div > div.catalog-content > div.catalog-wrapper > div > div > div.catalog-form__tabs > div > div > div > div > div.catalog-form__filter-part.catalog-form__filter-part_2 > div.catalog-form__offers > div > div:nth-child(1) > div > div > div.catalog-form__offers-part.catalog-form__offers-part_data > div.catalog-form__description.catalog-form__description_primary.catalog-form__description_base-additional.catalog-form__description_font-weight_semibold.catalog-form__description_condensed-other > a\")\n",
    "    # <a href=\"https://catalog.onliner.by/mobile/xiaomi/redmi15c8256ebk\" class=\"catalog-form__link catalog-form__link_primary-additional catalog-form__link_base-additional catalog-form__link_font-weight_semibold catalog-form__link_nodecor\"> Телефон Xiaomi Redmi 15C 4G 8GB/256GB международная версия (черный) </a>\n",
    "    ads_list = []\n",
    "    for element in elements:\n",
    "        ads_list.append(element.get_attribute('href'))\n",
    "        # print(element.get_attribute('href'), '\\n')\n",
    "\n",
    "    return ads_list"
   ]
  },
  {
   "cell_type": "code",
   "execution_count": 96,
   "id": "668c3e8f",
   "metadata": {},
   "outputs": [],
   "source": [
    "links = get_all_links_on_page()"
   ]
  },
  {
   "cell_type": "code",
   "execution_count": 97,
   "id": "6513d012",
   "metadata": {},
   "outputs": [
    {
     "data": {
      "text/plain": [
       "['https://tech.onliner.by/2025/03/13/top-10-smartfonov-vesna-2025?utm_source=guide_button&utm_medium=topmobile24',\n",
       " None,\n",
       " None,\n",
       " 'https://catalog.onliner.by/mobile/xiaomi/redmi154g256eti/prices',\n",
       " None,\n",
       " None,\n",
       " 'https://catalog.onliner.by/mobile/xiaomi/redmi154g256eti',\n",
       " 'https://forum.onliner.by/viewtopic.php?t=26102423',\n",
       " 'https://catalog.onliner.by/mobile/xiaomi/redmi15c8256ebk/prices',\n",
       " None,\n",
       " None,\n",
       " 'https://catalog.onliner.by/mobile/xiaomi/redmi15c8256ebk',\n",
       " 'https://forum.onliner.by/viewtopic.php?t=26098041',\n",
       " 'https://catalog.onliner.by/mobile/poco/pocox7pro8256ye1/prices',\n",
       " None,\n",
       " None,\n",
       " 'https://catalog.onliner.by/mobile/poco/pocox7pro8256ye1',\n",
       " 'https://forum.onliner.by/viewtopic.php?t=26065751',\n",
       " 'https://catalog.onliner.by/mobile/apple/iphone17256bk/prices',\n",
       " 'https://catalog.onliner.by/mobile/apple/iphone17256bk',\n",
       " 'https://catalog.onliner.by/mobile/apple/iphone17256bk/reviews/create',\n",
       " 'https://forum.onliner.by/viewtopic.php?t=26105506',\n",
       " 'https://catalog.onliner.by/mobile/apple/ip17pro256co/prices',\n",
       " None,\n",
       " None,\n",
       " 'https://catalog.onliner.by/mobile/apple/ip17pro256co',\n",
       " 'https://catalog.onliner.by/mobile/apple/ip17pro256co/reviews/create',\n",
       " 'https://forum.onliner.by/viewtopic.php?t=26105646',\n",
       " 'https://catalog.onliner.by/mobile/apple/ip17promax256db/prices',\n",
       " None,\n",
       " None,\n",
       " 'https://catalog.onliner.by/mobile/apple/ip17promax256db',\n",
       " 'https://catalog.onliner.by/mobile/apple/ip17promax256db/reviews/create',\n",
       " 'https://forum.onliner.by/viewtopic.php?t=26105644']"
      ]
     },
     "execution_count": 97,
     "metadata": {},
     "output_type": "execute_result"
    }
   ],
   "source": [
    "links"
   ]
  },
  {
   "cell_type": "code",
   "execution_count": 94,
   "id": "fab01b5e",
   "metadata": {},
   "outputs": [],
   "source": [
    "# Переход на следующую страницу через нажатие на кнопку\n",
    "def click_next_page():\n",
    "    clickable_element = WebDriverWait(driver, 10).until(\n",
    "        EC.element_to_be_clickable((By.XPATH, '/html/body/div[2]/div/div/div/div/div/div/div/div/div[2]/div[1]/div/div/div[4]/div/div/div/div/div[3]/div[3]/a'))\n",
    "    )\n",
    "\n",
    "    clickable_element.click()"
   ]
  },
  {
   "cell_type": "code",
   "execution_count": 98,
   "id": "47af17fa",
   "metadata": {},
   "outputs": [
    {
     "data": {
      "text/plain": [
       "34"
      ]
     },
     "execution_count": 98,
     "metadata": {},
     "output_type": "execute_result"
    }
   ],
   "source": [
    "len(links)"
   ]
  },
  {
   "cell_type": "code",
   "execution_count": 99,
   "id": "eaa28a49",
   "metadata": {},
   "outputs": [
    {
     "data": {
      "text/plain": [
       "15"
      ]
     },
     "execution_count": 99,
     "metadata": {},
     "output_type": "execute_result"
    }
   ],
   "source": [
    "clear_links = []\n",
    "\n",
    "for item in links:\n",
    "    if item == None or 'forum.' in item or 'tech.' in item:\n",
    "        pass\n",
    "    else:\n",
    "        clear_links.append(item)\n",
    "\n",
    "len(clear_links)"
   ]
  },
  {
   "cell_type": "code",
   "execution_count": 79,
   "id": "9ccc2955",
   "metadata": {},
   "outputs": [
    {
     "data": {
      "text/plain": [
       "6"
      ]
     },
     "execution_count": 79,
     "metadata": {},
     "output_type": "execute_result"
    }
   ],
   "source": [
    "very_clear_links = []\n",
    "\n",
    "for item in clear_links:\n",
    "    if 'prices' in item or 'reviews' in item:\n",
    "        pass\n",
    "    else:\n",
    "        very_clear_links.append(item)\n",
    "\n",
    "len(very_clear_links)"
   ]
  },
  {
   "cell_type": "code",
   "execution_count": 80,
   "id": "4b72dfc3",
   "metadata": {},
   "outputs": [
    {
     "data": {
      "text/plain": [
       "['https://catalog.onliner.by/mobile/xiaomi/redmi154g256eti',\n",
       " 'https://catalog.onliner.by/mobile/xiaomi/redmi15c8256ebk',\n",
       " 'https://catalog.onliner.by/mobile/poco/pocox7pro8256ye1',\n",
       " 'https://catalog.onliner.by/mobile/apple/iphone17256bk',\n",
       " 'https://catalog.onliner.by/mobile/apple/ip17pro256co',\n",
       " 'https://catalog.onliner.by/mobile/apple/ip17promax256db']"
      ]
     },
     "execution_count": 80,
     "metadata": {},
     "output_type": "execute_result"
    }
   ],
   "source": [
    "very_clear_links"
   ]
  },
  {
   "cell_type": "code",
   "execution_count": 81,
   "id": "f8feb96e",
   "metadata": {},
   "outputs": [],
   "source": [
    "import pandas as pd\n",
    "\n",
    "column = ['Name', 'Type', 'operating system', 'RAM capacity', 'Built-in memory capacity', 'Number of dots in the main camera matrix', 'Link']\n",
    "\n",
    "df = pd.DataFrame(columns = column)"
   ]
  },
  {
   "cell_type": "code",
   "execution_count": 82,
   "id": "219cb44f",
   "metadata": {},
   "outputs": [
    {
     "data": {
      "text/html": [
       "<div>\n",
       "<style scoped>\n",
       "    .dataframe tbody tr th:only-of-type {\n",
       "        vertical-align: middle;\n",
       "    }\n",
       "\n",
       "    .dataframe tbody tr th {\n",
       "        vertical-align: top;\n",
       "    }\n",
       "\n",
       "    .dataframe thead th {\n",
       "        text-align: right;\n",
       "    }\n",
       "</style>\n",
       "<table border=\"1\" class=\"dataframe\">\n",
       "  <thead>\n",
       "    <tr style=\"text-align: right;\">\n",
       "      <th></th>\n",
       "      <th>Name</th>\n",
       "      <th>Type</th>\n",
       "      <th>operating system</th>\n",
       "      <th>RAM capacity</th>\n",
       "      <th>Built-in memory capacity</th>\n",
       "      <th>Number of dots in the main camera matrix</th>\n",
       "      <th>Link</th>\n",
       "    </tr>\n",
       "  </thead>\n",
       "  <tbody>\n",
       "  </tbody>\n",
       "</table>\n",
       "</div>"
      ],
      "text/plain": [
       "Empty DataFrame\n",
       "Columns: [Name, Type, operating system, RAM capacity, Built-in memory capacity, Number of dots in the main camera matrix, Link]\n",
       "Index: []"
      ]
     },
     "execution_count": 82,
     "metadata": {},
     "output_type": "execute_result"
    }
   ],
   "source": [
    "df"
   ]
  },
  {
   "cell_type": "code",
   "execution_count": 55,
   "id": "114ef9d1",
   "metadata": {},
   "outputs": [],
   "source": [
    "driver.get(\"https://catalog.onliner.by/mobile/apple/iphone17256lb\")"
   ]
  },
  {
   "cell_type": "code",
   "execution_count": 56,
   "id": "92e86503",
   "metadata": {},
   "outputs": [
    {
     "data": {
      "text/plain": [
       "' Телефон Apple iPhone 17 256GB (голубой) '"
      ]
     },
     "execution_count": 56,
     "metadata": {},
     "output_type": "execute_result"
    }
   ],
   "source": [
    "name = driver.find_element(By.XPATH, value = '/html/body/div[2]/div/div/div/div/div/div/div/div/div[2]/div[1]/div/div[4]/h1').get_attribute('textContent')\n",
    "name"
   ]
  },
  {
   "cell_type": "code",
   "execution_count": 57,
   "id": "2c2f8018",
   "metadata": {},
   "outputs": [
    {
     "name": "stdout",
     "output_type": "stream",
     "text": [
      "смартфон Apple iOS 8 ГБ 256 ГБ 48 Мп\n"
     ]
    }
   ],
   "source": [
    "type = driver.find_element(By.XPATH, value = '/html/body/div[2]/div/div/div/div/div/div/div/div/div[2]/div[1]/main/div/div/div[4]/div[2]/div/table/tbody[2]/tr[2]/td[2]/span').get_attribute('textContent')\n",
    "operating_system = driver.find_element(By.XPATH, value = '/html/body/div[2]/div/div/div/div/div/div/div/div/div[2]/div[1]/main/div/div/div[4]/div[2]/div/table/tbody[2]/tr[3]/td[2]/span').get_attribute('textContent')\n",
    "RAM_capacity = driver.find_element(By.XPATH, value = '/html/body/div[2]/div/div/div/div/div/div/div/div/div[2]/div[1]/main/div/div/div[4]/div[2]/div/table/tbody[2]/tr[9]/td[2]/span').get_attribute('textContent')\n",
    "memory_capacity = driver.find_element(By.XPATH, value = '/html/body/div[2]/div/div/div/div/div/div/div/div/div[2]/div[1]/main/div/div/div[4]/div[2]/div/table/tbody[2]/tr[11]/td[2]/span').get_attribute('textContent')\n",
    "camera_matrix = driver.find_element(By.XPATH, value = '/html/body/div[2]/div/div/div/div/div/div/div/div/div[2]/div[1]/main/div/div/div[4]/div[2]/div/table/tbody[2]/tr[12]/td[2]/span').get_attribute('textContent')\n",
    "print(type, operating_system, RAM_capacity,memory_capacity, camera_matrix)"
   ]
  },
  {
   "cell_type": "code",
   "execution_count": 58,
   "id": "0ae5c1fd",
   "metadata": {},
   "outputs": [
    {
     "data": {
      "text/html": [
       "<div>\n",
       "<style scoped>\n",
       "    .dataframe tbody tr th:only-of-type {\n",
       "        vertical-align: middle;\n",
       "    }\n",
       "\n",
       "    .dataframe tbody tr th {\n",
       "        vertical-align: top;\n",
       "    }\n",
       "\n",
       "    .dataframe thead th {\n",
       "        text-align: right;\n",
       "    }\n",
       "</style>\n",
       "<table border=\"1\" class=\"dataframe\">\n",
       "  <thead>\n",
       "    <tr style=\"text-align: right;\">\n",
       "      <th></th>\n",
       "      <th>Name</th>\n",
       "      <th>Type</th>\n",
       "      <th>operating system</th>\n",
       "      <th>RAM capacity</th>\n",
       "      <th>Built-in memory capacity</th>\n",
       "      <th>Number of dots in the main camera matrix</th>\n",
       "      <th>Link</th>\n",
       "    </tr>\n",
       "  </thead>\n",
       "  <tbody>\n",
       "    <tr>\n",
       "      <th>0</th>\n",
       "      <td>Телефон Apple iPhone 17 256GB (голубой)</td>\n",
       "      <td>смартфон</td>\n",
       "      <td>Apple iOS</td>\n",
       "      <td>8 ГБ</td>\n",
       "      <td>256 ГБ</td>\n",
       "      <td>48 Мп</td>\n",
       "      <td>https://forum.onliner.by/viewtopic.php?t=26105506</td>\n",
       "    </tr>\n",
       "  </tbody>\n",
       "</table>\n",
       "</div>"
      ],
      "text/plain": [
       "                                        Name      Type operating system  \\\n",
       "0   Телефон Apple iPhone 17 256GB (голубой)   смартфон        Apple iOS   \n",
       "\n",
       "  RAM capacity Built-in memory capacity  \\\n",
       "0         8 ГБ                   256 ГБ   \n",
       "\n",
       "  Number of dots in the main camera matrix  \\\n",
       "0                                    48 Мп   \n",
       "\n",
       "                                                Link  \n",
       "0  https://forum.onliner.by/viewtopic.php?t=26105506  "
      ]
     },
     "execution_count": 58,
     "metadata": {},
     "output_type": "execute_result"
    }
   ],
   "source": [
    "df.loc[0] = [name, type, operating_system, RAM_capacity,memory_capacity, camera_matrix, links[-1]]\n",
    "df"
   ]
  },
  {
   "cell_type": "code",
   "execution_count": 84,
   "id": "fbcfc567",
   "metadata": {},
   "outputs": [
    {
     "data": {
      "text/html": [
       "<div>\n",
       "<style scoped>\n",
       "    .dataframe tbody tr th:only-of-type {\n",
       "        vertical-align: middle;\n",
       "    }\n",
       "\n",
       "    .dataframe tbody tr th {\n",
       "        vertical-align: top;\n",
       "    }\n",
       "\n",
       "    .dataframe thead th {\n",
       "        text-align: right;\n",
       "    }\n",
       "</style>\n",
       "<table border=\"1\" class=\"dataframe\">\n",
       "  <thead>\n",
       "    <tr style=\"text-align: right;\">\n",
       "      <th></th>\n",
       "      <th>Name</th>\n",
       "      <th>Type</th>\n",
       "      <th>operating system</th>\n",
       "      <th>RAM capacity</th>\n",
       "      <th>Built-in memory capacity</th>\n",
       "      <th>Number of dots in the main camera matrix</th>\n",
       "      <th>Link</th>\n",
       "    </tr>\n",
       "  </thead>\n",
       "  <tbody>\n",
       "    <tr>\n",
       "      <th>2</th>\n",
       "      <td>Телефон Xiaomi Redmi 15 4G 8GB/256GB междунар...</td>\n",
       "      <td>None</td>\n",
       "      <td>None</td>\n",
       "      <td>None</td>\n",
       "      <td>None</td>\n",
       "      <td>None</td>\n",
       "      <td>https://catalog.onliner.by/mobile/xiaomi/redmi...</td>\n",
       "    </tr>\n",
       "    <tr>\n",
       "      <th>3</th>\n",
       "      <td>None</td>\n",
       "      <td>смартфон</td>\n",
       "      <td>Android</td>\n",
       "      <td>120 Гц</td>\n",
       "      <td>LPDDR4X</td>\n",
       "      <td>8 ГБ</td>\n",
       "      <td>https://catalog.onliner.by/mobile/xiaomi/redmi...</td>\n",
       "    </tr>\n",
       "    <tr>\n",
       "      <th>4</th>\n",
       "      <td>Телефон POCO X7 Pro 8GB/256GB международная в...</td>\n",
       "      <td>None</td>\n",
       "      <td>None</td>\n",
       "      <td>None</td>\n",
       "      <td>None</td>\n",
       "      <td>None</td>\n",
       "      <td>https://catalog.onliner.by/mobile/poco/pocox7p...</td>\n",
       "    </tr>\n",
       "    <tr>\n",
       "      <th>5</th>\n",
       "      <td>Телефон Apple iPhone 17 256GB (черный)</td>\n",
       "      <td>смартфон</td>\n",
       "      <td>Apple iOS</td>\n",
       "      <td>8 ГБ</td>\n",
       "      <td>256 ГБ</td>\n",
       "      <td>48 Мп</td>\n",
       "      <td>https://catalog.onliner.by/mobile/apple/iphone...</td>\n",
       "    </tr>\n",
       "    <tr>\n",
       "      <th>6</th>\n",
       "      <td>Телефон Apple iPhone 17 Pro 256GB (космически...</td>\n",
       "      <td>смартфон</td>\n",
       "      <td>Apple iOS</td>\n",
       "      <td>12 ГБ</td>\n",
       "      <td>256 ГБ</td>\n",
       "      <td>48 Мп</td>\n",
       "      <td>https://catalog.onliner.by/mobile/apple/ip17pr...</td>\n",
       "    </tr>\n",
       "    <tr>\n",
       "      <th>7</th>\n",
       "      <td>None</td>\n",
       "      <td>None</td>\n",
       "      <td>None</td>\n",
       "      <td>12 ГБ</td>\n",
       "      <td>256 ГБ</td>\n",
       "      <td>48 Мп</td>\n",
       "      <td>https://catalog.onliner.by/mobile/apple/ip17pr...</td>\n",
       "    </tr>\n",
       "  </tbody>\n",
       "</table>\n",
       "</div>"
      ],
      "text/plain": [
       "                                                Name      Type  \\\n",
       "2   Телефон Xiaomi Redmi 15 4G 8GB/256GB междунар...      None   \n",
       "3                                               None  смартфон   \n",
       "4   Телефон POCO X7 Pro 8GB/256GB международная в...      None   \n",
       "5            Телефон Apple iPhone 17 256GB (черный)   смартфон   \n",
       "6   Телефон Apple iPhone 17 Pro 256GB (космически...  смартфон   \n",
       "7                                               None      None   \n",
       "\n",
       "  operating system RAM capacity Built-in memory capacity  \\\n",
       "2             None         None                     None   \n",
       "3          Android       120 Гц                  LPDDR4X   \n",
       "4             None         None                     None   \n",
       "5        Apple iOS         8 ГБ                   256 ГБ   \n",
       "6        Apple iOS        12 ГБ                   256 ГБ   \n",
       "7             None        12 ГБ                   256 ГБ   \n",
       "\n",
       "  Number of dots in the main camera matrix  \\\n",
       "2                                     None   \n",
       "3                                     8 ГБ   \n",
       "4                                     None   \n",
       "5                                    48 Мп   \n",
       "6                                    48 Мп   \n",
       "7                                    48 Мп   \n",
       "\n",
       "                                                Link  \n",
       "2  https://catalog.onliner.by/mobile/xiaomi/redmi...  \n",
       "3  https://catalog.onliner.by/mobile/xiaomi/redmi...  \n",
       "4  https://catalog.onliner.by/mobile/poco/pocox7p...  \n",
       "5  https://catalog.onliner.by/mobile/apple/iphone...  \n",
       "6  https://catalog.onliner.by/mobile/apple/ip17pr...  \n",
       "7  https://catalog.onliner.by/mobile/apple/ip17pr...  "
      ]
     },
     "execution_count": 84,
     "metadata": {},
     "output_type": "execute_result"
    }
   ],
   "source": [
    "iter = 2  # Начинаем с 2, как указано\n",
    "\n",
    "for item in very_clear_links:\n",
    "    driver.get(item)\n",
    "\n",
    "    try:\n",
    "        name = driver.find_element(By.XPATH, value='/html/body/div[2]/div/div/div/div/div/div/div/div/div[2]/div[1]/div/div[4]/h1').get_attribute('textContent')\n",
    "    except:\n",
    "        name = None\n",
    "\n",
    "    try:\n",
    "        type = driver.find_element(By.XPATH, value='/html/body/div[2]/div/div/div/div/div/div/div/div/div[2]/div[1]/main/div/div/div[4]/div[2]/div/table/tbody[2]/tr[2]/td[2]/span').get_attribute('textContent')\n",
    "    except:\n",
    "        type = None\n",
    "\n",
    "    try:\n",
    "        operating_system = driver.find_element(By.XPATH, value='/html/body/div[2]/div/div/div/div/div/div/div/div/div[2]/div[1]/main/div/div/div[4]/div[2]/div/table/tbody[2]/tr[3]/td[2]/span').get_attribute('textContent')\n",
    "    except:\n",
    "        operating_system = None\n",
    "\n",
    "    try:\n",
    "        RAM_capacity = driver.find_element(By.XPATH, value='/html/body/div[2]/div/div/div/div/div/div/div/div/div[2]/div[1]/main/div/div/div[4]/div[2]/div/table/tbody[2]/tr[9]/td[2]/span').get_attribute('textContent')\n",
    "    except:\n",
    "        RAM_capacity = None\n",
    "\n",
    "    try:\n",
    "        memory_capacity = driver.find_element(By.XPATH, value='/html/body/div[2]/div/div/div/div/div/div/div/div/div[2]/div[1]/main/div/div/div[4]/div[2]/div/table/tbody[2]/tr[11]/td[2]/span').get_attribute('textContent')\n",
    "    except:\n",
    "        memory_capacity = None\n",
    "\n",
    "    try:\n",
    "        camera_matrix = driver.find_element(By.XPATH, value='/html/body/div[2]/div/div/div/div/div/div/div/div/div[2]/div[1]/main/div/div/div[4]/div[2]/div/table/tbody[2]/tr[12]/td[2]/span').get_attribute('textContent')\n",
    "    except:\n",
    "        camera_matrix = None\n",
    "\n",
    "    # Добавляем данные в DataFrame\n",
    "    df.loc[iter] = [name, type, operating_system, RAM_capacity, memory_capacity, camera_matrix, item]\n",
    "    iter += 1\n",
    "df\n"
   ]
  }
 ],
 "metadata": {
  "kernelspec": {
   "display_name": "Python 3",
   "language": "python",
   "name": "python3"
  },
  "language_info": {
   "codemirror_mode": {
    "name": "ipython",
    "version": 3
   },
   "file_extension": ".py",
   "mimetype": "text/x-python",
   "name": "python",
   "nbconvert_exporter": "python",
   "pygments_lexer": "ipython3",
   "version": "3.12.3"
  }
 },
 "nbformat": 4,
 "nbformat_minor": 5
}
