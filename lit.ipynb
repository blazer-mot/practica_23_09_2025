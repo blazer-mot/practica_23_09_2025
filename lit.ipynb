{
 "cells": [
  {
   "cell_type": "code",
   "execution_count": 1,
   "metadata": {},
   "outputs": [],
   "source": [
    "from selenium import webdriver\n",
    "from selenium.webdriver.common.by import By\n",
    "from selenium.webdriver.common.keys import Keys\n",
    "import pandas as pd\n",
    "import time\n",
    "from bs4 import BeautifulSoup\n",
    "from selenium.webdriver.support.ui import WebDriverWait\n",
    "from selenium.webdriver.support import expected_conditions as EC\n",
    "from selenium.webdriver.chrome.options import Options\n",
    "from selenium.webdriver.chrome.service import Service"
   ]
  },
  {
   "cell_type": "code",
   "execution_count": 2,
   "metadata": {},
   "outputs": [],
   "source": [
    "from selenium import webdriver\n",
    "\n",
    "driver=webdriver.Chrome()\n",
    "\n",
    "driver.get(\"https://auto.1k.by/digital-caracoustics/\")"
   ]
  },
  {
   "cell_type": "code",
   "execution_count": 3,
   "metadata": {},
   "outputs": [],
   "source": [
    "# Собираем все ссылки на объявления с выбранной страницы\n",
    "def get_all_links_on_page():\n",
    "    elements = driver.find_elements(By.CLASS_NAME, value='prod__link')\n",
    "    # elements = driver.find_elements(by=By.CSS_SELECTOR, value=\"#container > div > div > div > div > div.catalog-content > div.catalog-wrapper > div > div > div.catalog-form__tabs > div > div > div > div > div.catalog-form__filter-part.catalog-form__filter-part_2 > div.catalog-form__offers > div > div:nth-child(1) > div > div > div.catalog-form__offers-part.catalog-form__offers-part_data > div.catalog-form__description.catalog-form__description_primary.catalog-form__description_base-additional.catalog-form__description_font-weight_semibold.catalog-form__description_condensed-other > a\")\n",
    "    # <a href=\"https://catalog.onliner.by/mobile/xiaomi/redmi15c8256ebk\" class=\"catalog-form__link catalog-form__link_primary-additional catalog-form__link_base-additional catalog-form__link_font-weight_semibold catalog-form__link_nodecor\"> Телефон Xiaomi Redmi 15C 4G 8GB/256GB международная версия (черный) </a>\n",
    "    ads_list = []\n",
    "    for element in elements:\n",
    "        ads_list.append(element.get_attribute('href'))\n",
    "        # print(element.get_attribute('href'), '\\n')\n",
    "\n",
    "    return ads_list"
   ]
  },
  {
   "cell_type": "code",
   "execution_count": 4,
   "metadata": {},
   "outputs": [],
   "source": [
    "links = get_all_links_on_page()"
   ]
  },
  {
   "cell_type": "code",
   "execution_count": 5,
   "metadata": {},
   "outputs": [
    {
     "data": {
      "text/plain": [
       "['https://auto.1k.by/digital-caracoustics/ural/Yral_TT_2002-4855403.html',\n",
       " 'https://auto.1k.by/digital-caracoustics/ural/Yral_AS_B6947-5034397.html',\n",
       " 'https://auto.1k.by/digital-caracoustics/digma/Digma_DCS_100-3114067.html',\n",
       " 'https://auto.1k.by/digital-caracoustics/kicx/Kicx_GT305BPA-4097427.html',\n",
       " 'https://auto.1k.by/digital-caracoustics/infinity/Infinity_Alpha_6530-4547101.html',\n",
       " 'https://auto.1k.by/digital-caracoustics/acv/ACV_BTA_12R-3929041.html',\n",
       " 'https://auto.1k.by/digital-caracoustics/nakamichi/Nakamichi_NSE1658-4547124.html',\n",
       " 'https://auto.1k.by/digital-caracoustics/prology/Prology_RX_65CS_Kraken-4736601.html',\n",
       " 'https://auto.1k.by/digital-caracoustics/acv/ACV_Craft_B10A-4587217.html',\n",
       " 'https://auto.1k.by/digital-caracoustics/prology/Prology_PX_692-5061282.html',\n",
       " 'https://auto.1k.by/digital-caracoustics/kicx/Kicx_AP301BPA-3203171.html',\n",
       " 'https://auto.1k.by/digital-caracoustics/jvc/JVC_CS_DR6940-2497979.html',\n",
       " 'https://auto.1k.by/digital-caracoustics/ural/Yral_AK_47_M-4555560.html',\n",
       " 'https://auto.1k.by/digital-caracoustics/nakamichi/Nakamichi_NSE1358-4547112.html',\n",
       " 'https://auto.1k.by/digital-caracoustics/ural/Yral_Patriot_AS_PT200_Element_4-4938394.html',\n",
       " 'https://auto.1k.by/digital-caracoustics/kenwood/KENWOOD_KFC_PS6986-3532435.html',\n",
       " 'https://auto.1k.by/digital-caracoustics/dlaudio/DL_Audio_Phoenix_SQL_200-4643222.html',\n",
       " 'https://auto.1k.by/digital-caracoustics/ural/Yral_CHe_Gevara-4718373.html',\n",
       " 'https://auto.1k.by/digital-caracoustics/ural/Yral_Warhead_Grand_165-4817522.html',\n",
       " 'https://auto.1k.by/digital-caracoustics/kicx/Kicx_RX_301BPA-4129977.html',\n",
       " 'https://auto.1k.by/digital-caracoustics/ural/Yral_AS_Y12A-4186453.html',\n",
       " 'https://auto.1k.by/digital-caracoustics/acv/ACV_BTA_10R-4050491.html',\n",
       " 'https://auto.1k.by/digital-caracoustics/infinity/Infinity_Alpha_650C-4547104.html',\n",
       " 'https://auto.1k.by/digital-caracoustics/aura/Aura_Fireball_122i-5014814.html',\n",
       " 'https://auto.1k.by/digital-caracoustics/nakamichi/Nakamichi_NBX255A-4741950.html',\n",
       " 'https://auto.1k.by/digital-caracoustics/kicx/Kicx_AP300BPA-3203173.html',\n",
       " 'https://auto.1k.by/digital-caracoustics/ural/Yral_Molniya_12-4695664.html',\n",
       " 'https://auto.1k.by/digital-caracoustics/acv/ACV_PB_803G-4988078.html',\n",
       " 'https://auto.1k.by/digital-caracoustics/infinity/Infinity_Reference_9632IX-5004434.html',\n",
       " 'https://auto.1k.by/digital-caracoustics/ural/YRAL_AS_W130MB-2655041.html',\n",
       " 'https://auto.1k.by/digital-caracoustics/ural/Yral_AS_B1627K-5034396.html',\n",
       " 'https://auto.1k.by/digital-caracoustics/infinity/Infinity_REF_5032CFX-4755294.html',\n",
       " 'https://auto.1k.by/digital-caracoustics/jbl/JBL_Stage_122D-4547156.html',\n",
       " 'https://auto.1k.by/digital-caracoustics/ural/Yral_Patriot_12-4718376.html',\n",
       " 'https://auto.1k.by/digital-caracoustics/kicx/Kicx_HeadShot_M65-3756997.html',\n",
       " 'https://auto.1k.by/digital-caracoustics/jbl/JBL_Stage2_9634-4050507.html',\n",
       " 'https://auto.1k.by/digital-caracoustics/ural/Yral_TT_165_Grom-4588619.html',\n",
       " 'https://auto.1k.by/digital-caracoustics/ural/Yral_CHE_006-4659715.html',\n",
       " 'https://auto.1k.by/digital-caracoustics/acv/ACV_CRAFT_B8A-4734454.html',\n",
       " 'https://auto.1k.by/digital-caracoustics/dlaudio/DL_Audio_Piranha_12A_SE-5004079.html',\n",
       " 'https://auto.1k.by/digital-caracoustics/ural/Yral_TT_165_Draiiv-4695666.html',\n",
       " 'https://auto.1k.by/digital-caracoustics/ural/Yral_Klassik_AS_K6947-4698358.html',\n",
       " 'https://auto.1k.by/digital-caracoustics/acv/ACV_BTA_6-3929039.html',\n",
       " 'https://auto.1k.by/digital-caracoustics/ural/Yral_Patriot_12_Grom-4718375.html',\n",
       " 'https://auto.1k.by/digital-caracoustics/acv/ACV_Craft_B12A-4587220.html',\n",
       " 'https://auto.1k.by/digital-caracoustics/ural/Yral_PMN_2-4666611.html',\n",
       " 'https://auto.1k.by/digital-caracoustics/acv/ACV_PG62S-4817514.html',\n",
       " 'https://auto.1k.by/digital-caracoustics/ural/Yral_Patriot_10-5036955.html',\n",
       " 'https://auto.1k.by/digital-caracoustics/ural/Yral_AC_Y12A_Seryiii-5036959.html',\n",
       " 'https://auto.1k.by/digital-caracoustics/kicx/KICX_Q200BA-4741946.html']"
      ]
     },
     "execution_count": 5,
     "metadata": {},
     "output_type": "execute_result"
    }
   ],
   "source": [
    "links"
   ]
  },
  {
   "cell_type": "code",
   "execution_count": 6,
   "metadata": {},
   "outputs": [],
   "source": [
    "# Переход на следующую страницу через нажатие на кнопку\n",
    "def click_next_page():\n",
    "    clickable_element = WebDriverWait(driver, 10).until(\n",
    "        EC.element_to_be_clickable((By.CLASS_NAME, 'paging__next'))\n",
    "    )\n",
    "\n",
    "    clickable_element.click()"
   ]
  },
  {
   "cell_type": "code",
   "execution_count": 7,
   "metadata": {},
   "outputs": [
    {
     "data": {
      "text/plain": [
       "50"
      ]
     },
     "execution_count": 7,
     "metadata": {},
     "output_type": "execute_result"
    }
   ],
   "source": [
    "len(links)"
   ]
  },
  {
   "cell_type": "code",
   "execution_count": 8,
   "metadata": {},
   "outputs": [
    {
     "data": {
      "text/plain": [
       "50"
      ]
     },
     "execution_count": 8,
     "metadata": {},
     "output_type": "execute_result"
    }
   ],
   "source": [
    "clear_links = []\n",
    "\n",
    "for item in links:\n",
    "    if item == None or 'forum.' in item or 'tech.' in item:\n",
    "        pass\n",
    "    else:\n",
    "        clear_links.append(item)\n",
    "\n",
    "len(clear_links)"
   ]
  },
  {
   "cell_type": "code",
   "execution_count": 9,
   "metadata": {},
   "outputs": [
    {
     "name": "stdout",
     "output_type": "stream",
     "text": [
      "50\n"
     ]
    }
   ],
   "source": [
    "very_clear_links = []\n",
    "\n",
    "for item in clear_links:\n",
    "    if 'prices' in item or 'reviews' in item:\n",
    "        pass\n",
    "    else:\n",
    "        very_clear_links.append(item)\n",
    "\n",
    "print(len(very_clear_links))\n",
    "\n",
    "pd.DataFrame(very_clear_links, columns=[\"url\"]).to_csv(\"links.csv\", index=False, encoding=\"utf-8-sig\")\n"
   ]
  },
  {
   "cell_type": "code",
   "execution_count": 10,
   "metadata": {},
   "outputs": [
    {
     "data": {
      "text/plain": [
       "['https://auto.1k.by/digital-caracoustics/ural/Yral_TT_2002-4855403.html',\n",
       " 'https://auto.1k.by/digital-caracoustics/ural/Yral_AS_B6947-5034397.html',\n",
       " 'https://auto.1k.by/digital-caracoustics/digma/Digma_DCS_100-3114067.html',\n",
       " 'https://auto.1k.by/digital-caracoustics/kicx/Kicx_GT305BPA-4097427.html',\n",
       " 'https://auto.1k.by/digital-caracoustics/infinity/Infinity_Alpha_6530-4547101.html',\n",
       " 'https://auto.1k.by/digital-caracoustics/acv/ACV_BTA_12R-3929041.html',\n",
       " 'https://auto.1k.by/digital-caracoustics/nakamichi/Nakamichi_NSE1658-4547124.html',\n",
       " 'https://auto.1k.by/digital-caracoustics/prology/Prology_RX_65CS_Kraken-4736601.html',\n",
       " 'https://auto.1k.by/digital-caracoustics/acv/ACV_Craft_B10A-4587217.html',\n",
       " 'https://auto.1k.by/digital-caracoustics/prology/Prology_PX_692-5061282.html',\n",
       " 'https://auto.1k.by/digital-caracoustics/kicx/Kicx_AP301BPA-3203171.html',\n",
       " 'https://auto.1k.by/digital-caracoustics/jvc/JVC_CS_DR6940-2497979.html',\n",
       " 'https://auto.1k.by/digital-caracoustics/ural/Yral_AK_47_M-4555560.html',\n",
       " 'https://auto.1k.by/digital-caracoustics/nakamichi/Nakamichi_NSE1358-4547112.html',\n",
       " 'https://auto.1k.by/digital-caracoustics/ural/Yral_Patriot_AS_PT200_Element_4-4938394.html',\n",
       " 'https://auto.1k.by/digital-caracoustics/kenwood/KENWOOD_KFC_PS6986-3532435.html',\n",
       " 'https://auto.1k.by/digital-caracoustics/dlaudio/DL_Audio_Phoenix_SQL_200-4643222.html',\n",
       " 'https://auto.1k.by/digital-caracoustics/ural/Yral_CHe_Gevara-4718373.html',\n",
       " 'https://auto.1k.by/digital-caracoustics/ural/Yral_Warhead_Grand_165-4817522.html',\n",
       " 'https://auto.1k.by/digital-caracoustics/kicx/Kicx_RX_301BPA-4129977.html',\n",
       " 'https://auto.1k.by/digital-caracoustics/ural/Yral_AS_Y12A-4186453.html',\n",
       " 'https://auto.1k.by/digital-caracoustics/acv/ACV_BTA_10R-4050491.html',\n",
       " 'https://auto.1k.by/digital-caracoustics/infinity/Infinity_Alpha_650C-4547104.html',\n",
       " 'https://auto.1k.by/digital-caracoustics/aura/Aura_Fireball_122i-5014814.html',\n",
       " 'https://auto.1k.by/digital-caracoustics/nakamichi/Nakamichi_NBX255A-4741950.html',\n",
       " 'https://auto.1k.by/digital-caracoustics/kicx/Kicx_AP300BPA-3203173.html',\n",
       " 'https://auto.1k.by/digital-caracoustics/ural/Yral_Molniya_12-4695664.html',\n",
       " 'https://auto.1k.by/digital-caracoustics/acv/ACV_PB_803G-4988078.html',\n",
       " 'https://auto.1k.by/digital-caracoustics/infinity/Infinity_Reference_9632IX-5004434.html',\n",
       " 'https://auto.1k.by/digital-caracoustics/ural/YRAL_AS_W130MB-2655041.html',\n",
       " 'https://auto.1k.by/digital-caracoustics/ural/Yral_AS_B1627K-5034396.html',\n",
       " 'https://auto.1k.by/digital-caracoustics/infinity/Infinity_REF_5032CFX-4755294.html',\n",
       " 'https://auto.1k.by/digital-caracoustics/jbl/JBL_Stage_122D-4547156.html',\n",
       " 'https://auto.1k.by/digital-caracoustics/ural/Yral_Patriot_12-4718376.html',\n",
       " 'https://auto.1k.by/digital-caracoustics/kicx/Kicx_HeadShot_M65-3756997.html',\n",
       " 'https://auto.1k.by/digital-caracoustics/jbl/JBL_Stage2_9634-4050507.html',\n",
       " 'https://auto.1k.by/digital-caracoustics/ural/Yral_TT_165_Grom-4588619.html',\n",
       " 'https://auto.1k.by/digital-caracoustics/ural/Yral_CHE_006-4659715.html',\n",
       " 'https://auto.1k.by/digital-caracoustics/acv/ACV_CRAFT_B8A-4734454.html',\n",
       " 'https://auto.1k.by/digital-caracoustics/dlaudio/DL_Audio_Piranha_12A_SE-5004079.html',\n",
       " 'https://auto.1k.by/digital-caracoustics/ural/Yral_TT_165_Draiiv-4695666.html',\n",
       " 'https://auto.1k.by/digital-caracoustics/ural/Yral_Klassik_AS_K6947-4698358.html',\n",
       " 'https://auto.1k.by/digital-caracoustics/acv/ACV_BTA_6-3929039.html',\n",
       " 'https://auto.1k.by/digital-caracoustics/ural/Yral_Patriot_12_Grom-4718375.html',\n",
       " 'https://auto.1k.by/digital-caracoustics/acv/ACV_Craft_B12A-4587220.html',\n",
       " 'https://auto.1k.by/digital-caracoustics/ural/Yral_PMN_2-4666611.html',\n",
       " 'https://auto.1k.by/digital-caracoustics/acv/ACV_PG62S-4817514.html',\n",
       " 'https://auto.1k.by/digital-caracoustics/ural/Yral_Patriot_10-5036955.html',\n",
       " 'https://auto.1k.by/digital-caracoustics/ural/Yral_AC_Y12A_Seryiii-5036959.html',\n",
       " 'https://auto.1k.by/digital-caracoustics/kicx/KICX_Q200BA-4741946.html']"
      ]
     },
     "execution_count": 10,
     "metadata": {},
     "output_type": "execute_result"
    }
   ],
   "source": [
    "very_clear_links"
   ]
  },
  {
   "cell_type": "code",
   "execution_count": 11,
   "metadata": {},
   "outputs": [],
   "source": [
    "import pandas as pd\n",
    "\n",
    "column = ['Name', 'Type', 'min_power', 'max_power', 'min_frequency', 'max_frequency', 'Link']\n",
    "\n",
    "df = pd.DataFrame(columns = column)"
   ]
  },
  {
   "cell_type": "code",
   "execution_count": 12,
   "metadata": {},
   "outputs": [
    {
     "data": {
      "text/html": [
       "<div>\n",
       "<style scoped>\n",
       "    .dataframe tbody tr th:only-of-type {\n",
       "        vertical-align: middle;\n",
       "    }\n",
       "\n",
       "    .dataframe tbody tr th {\n",
       "        vertical-align: top;\n",
       "    }\n",
       "\n",
       "    .dataframe thead th {\n",
       "        text-align: right;\n",
       "    }\n",
       "</style>\n",
       "<table border=\"1\" class=\"dataframe\">\n",
       "  <thead>\n",
       "    <tr style=\"text-align: right;\">\n",
       "      <th></th>\n",
       "      <th>Name</th>\n",
       "      <th>Type</th>\n",
       "      <th>min_power</th>\n",
       "      <th>max_power</th>\n",
       "      <th>min_frequency</th>\n",
       "      <th>max_frequency</th>\n",
       "      <th>Link</th>\n",
       "    </tr>\n",
       "  </thead>\n",
       "  <tbody>\n",
       "  </tbody>\n",
       "</table>\n",
       "</div>"
      ],
      "text/plain": [
       "Empty DataFrame\n",
       "Columns: [Name, Type, min_power, max_power, min_frequency, max_frequency, Link]\n",
       "Index: []"
      ]
     },
     "execution_count": 12,
     "metadata": {},
     "output_type": "execute_result"
    }
   ],
   "source": [
    "df"
   ]
  },
  {
   "cell_type": "code",
   "execution_count": 13,
   "metadata": {},
   "outputs": [],
   "source": [
    "driver.get(\"https://auto.1k.by/digital-caracoustics/kicx/Kicx_GT305BPA-4097427.html\")"
   ]
  },
  {
   "cell_type": "code",
   "execution_count": 14,
   "metadata": {},
   "outputs": [
    {
     "data": {
      "text/plain": [
       "'Автоакустика Kicx GT305BPA'"
      ]
     },
     "execution_count": 14,
     "metadata": {},
     "output_type": "execute_result"
    }
   ],
   "source": [
    "name = driver.find_element(By.XPATH, value = '/html/body/div[1]/main/div[2]/h1').get_attribute('textContent')\n",
    "name"
   ]
  },
  {
   "cell_type": "code",
   "execution_count": 15,
   "metadata": {},
   "outputs": [
    {
     "name": "stdout",
     "output_type": "stream",
     "text": [
      "сабвуфер 350 Вт 975 Вт 30 Гц 1 500 Гц\n"
     ]
    }
   ],
   "source": [
    "type = driver.find_element(By.XPATH, value = '//*[@id=\"product-data\"]/div[1]/section/div[1]/div[1]/div[1]/table/tbody/tr[1]/td').get_attribute('textContent')\n",
    "min_power = driver.find_element(By.XPATH, value = '//*[@id=\"product-data\"]/div[1]/section/div[1]/div[1]/div[2]/table/tbody/tr[1]/td').get_attribute('textContent')\n",
    "max_power = driver.find_element(By.XPATH, value = '//*[@id=\"product-data\"]/div[1]/section/div[1]/div[1]/div[2]/table/tbody/tr[2]/td').get_attribute('textContent')\n",
    "min_frequency = driver.find_element(By.XPATH, value = '//*[@id=\"product-data\"]/div[1]/section/div[1]/div[1]/div[3]/table/tbody/tr[1]/td').get_attribute('textContent')\n",
    "max_frequency = driver.find_element(By.XPATH, value = '//*[@id=\"product-data\"]/div[1]/section/div[1]/div[1]/div[3]/table/tbody/tr[2]/td').get_attribute('textContent')\n",
    "print(type, min_power, max_power,min_frequency, max_frequency)"
   ]
  },
  {
   "cell_type": "code",
   "execution_count": 16,
   "metadata": {},
   "outputs": [
    {
     "data": {
      "text/html": [
       "<div>\n",
       "<style scoped>\n",
       "    .dataframe tbody tr th:only-of-type {\n",
       "        vertical-align: middle;\n",
       "    }\n",
       "\n",
       "    .dataframe tbody tr th {\n",
       "        vertical-align: top;\n",
       "    }\n",
       "\n",
       "    .dataframe thead th {\n",
       "        text-align: right;\n",
       "    }\n",
       "</style>\n",
       "<table border=\"1\" class=\"dataframe\">\n",
       "  <thead>\n",
       "    <tr style=\"text-align: right;\">\n",
       "      <th></th>\n",
       "      <th>Name</th>\n",
       "      <th>Type</th>\n",
       "      <th>min_power</th>\n",
       "      <th>max_power</th>\n",
       "      <th>min_frequency</th>\n",
       "      <th>max_frequency</th>\n",
       "      <th>Link</th>\n",
       "    </tr>\n",
       "  </thead>\n",
       "  <tbody>\n",
       "    <tr>\n",
       "      <th>0</th>\n",
       "      <td>Автоакустика Kicx GT305BPA</td>\n",
       "      <td>сабвуфер</td>\n",
       "      <td>350 Вт</td>\n",
       "      <td>975 Вт</td>\n",
       "      <td>30 Гц</td>\n",
       "      <td>1 500 Гц</td>\n",
       "      <td>https://auto.1k.by/digital-caracoustics/infini...</td>\n",
       "    </tr>\n",
       "  </tbody>\n",
       "</table>\n",
       "</div>"
      ],
      "text/plain": [
       "                         Name      Type min_power max_power min_frequency  \\\n",
       "0  Автоакустика Kicx GT305BPA  сабвуфер    350 Вт    975 Вт         30 Гц   \n",
       "\n",
       "  max_frequency                                               Link  \n",
       "0      1 500 Гц  https://auto.1k.by/digital-caracoustics/infini...  "
      ]
     },
     "execution_count": 16,
     "metadata": {},
     "output_type": "execute_result"
    }
   ],
   "source": [
    "df.loc[0] = [name, type, min_power, max_power,min_frequency, max_frequency, links[-1]]\n",
    "df"
   ]
  },
  {
   "cell_type": "code",
   "execution_count": 13,
   "metadata": {},
   "outputs": [],
   "source": [
    "from selenium import webdriver\n",
    "from selenium.webdriver.common.by import By\n",
    "from selenium.webdriver.chrome.options import Options\n",
    "from multiprocessing import Manager, Process\n",
    "from random import randint\n",
    "import pandas as pd\n",
    "import time\n",
    "\n",
    "def keep_watts(text):\n",
    "    if text and \"Вт\" in text:\n",
    "        return text.strip()\n",
    "    return None\n",
    "\n",
    "def keep_hertz(text):\n",
    "    if text and \"Гц\" in text:\n",
    "        return text.strip()\n",
    "    return None\n",
    "\n",
    "def get_new_driver(request_counter):\n",
    "    if request_counter % 10 == 0:\n",
    "        random_version = randint(120, 140)\n",
    "    else:\n",
    "        random_version = 120\n",
    "\n",
    "    opts = Options()\n",
    "    opts.add_argument(f\"user-agent=Mozilla/5.0 (Windows NT 10.0; Win64; x64) AppleWebKit/537.36 (KHTML, like Gecko) Chrome/{random_version}.0.0.0 Safari/537.36\")\n",
    "    driver = webdriver.Chrome(options=opts)\n",
    "    driver.set_page_load_timeout(20)\n",
    "    return driver\n",
    "\n",
    "def process_link(link, shared_list, counter):\n",
    "    driver = None\n",
    "    try:\n",
    "        counter.value += 1\n",
    "        driver = get_new_driver(counter.value)\n",
    "        try:\n",
    "            driver.get(link)\n",
    "            time.sleep(2)\n",
    "        except Exception as e:\n",
    "            print(f\"❌ Не удалось загрузить {link}: {e}\")\n",
    "            return\n",
    "\n",
    "        try:\n",
    "            name = driver.find_element(By.XPATH, '/html/body/div[1]/main/div[2]/h1').get_attribute('textContent').strip()\n",
    "        except:\n",
    "            name = None\n",
    "        try:\n",
    "            type_ = driver.find_element(By.XPATH, '//*[@id=\"product-data\"]/div[1]/section/div[1]/div[1]/div[1]/table/tbody/tr[1]/td').get_attribute('textContent').strip()\n",
    "        except:\n",
    "            type_ = None\n",
    "        try:\n",
    "            min_power_raw = driver.find_element(By.XPATH, '//*[@id=\"product-data\"]/div[1]/section/div[1]/div[1]/div[2]/table/tbody/tr[1]/td').get_attribute('textContent')\n",
    "        except:\n",
    "            min_power_raw = None\n",
    "        try:\n",
    "            max_power_raw = driver.find_element(By.XPATH, '//*[@id=\"product-data\"]/div[1]/section/div[1]/div[1]/div[2]/table/tbody/tr[2]/td').get_attribute('textContent')\n",
    "        except:\n",
    "            max_power_raw = None\n",
    "        try:\n",
    "            min_frequency_raw = driver.find_element(By.XPATH, '//*[@id=\"product-data\"]/div[1]/section/div[1]/div[1]/div[3]/table/tbody/tr[1]/td').get_attribute('textContent')\n",
    "        except:\n",
    "            min_frequency_raw = None\n",
    "        try:\n",
    "            max_frequency_raw = driver.find_element(By.XPATH, '//*[@id=\"product-data\"]/div[1]/section/div[1]/div[1]/div[3]/table/tbody/tr[2]/td').get_attribute('textContent')\n",
    "        except:\n",
    "            max_frequency_raw = None\n",
    "\n",
    "        min_power = keep_watts(min_power_raw)\n",
    "        max_power = keep_watts(max_power_raw)\n",
    "        min_frequency = keep_hertz(min_frequency_raw)\n",
    "        max_frequency = keep_hertz(max_frequency_raw)\n",
    "\n",
    "        shared_list.append([name, type_, min_power, max_power, min_frequency, max_frequency, link])\n",
    "\n",
    "    except Exception as e:\n",
    "        print(f\"❌ Ошибка на {link}: {e}\")\n",
    "    finally:\n",
    "        if driver:\n",
    "            driver.quit()\n",
    "\n",
    "# Запуск\n",
    "manager = Manager()\n",
    "shared_list = manager.list()\n",
    "counter = manager.Value('i', 0)\n",
    "\n",
    "processes = []\n",
    "for link in very_clear_links:\n",
    "    p = Process(target=process_link, args=(link, shared_list, counter))\n",
    "    processes.append(p)\n",
    "    p.start()\n",
    "\n",
    "for p in processes:\n",
    "    p.join()\n",
    "\n",
    "# Сохраняем результат\n",
    "df = pd.DataFrame(list(shared_list), columns=[\n",
    "    \"Название\", \"Тип\", \"Мин. мощность\", \"Макс. мощность\",\n",
    "    \"Мин. частота\", \"Макс. частота\", \"Ссылка\"\n",
    "])\n",
    "df.to_csv(\"car_audio_specs_parallel.csv\", index=False, encoding=\"utf-8-sig\")\n"
   ]
  },
  {
   "cell_type": "code",
   "execution_count": 20,
   "metadata": {},
   "outputs": [],
   "source": [
    "from random import randint\n",
    "random = randint(120,140)\n",
    "\n",
    "opts = Options()\n",
    "opts.add_argument(f\"user-agent=Mozilla/5.0 (Windows NT 10.0; Win64; x64) AppleWebKit/537.36 (KHTML, like Gecko) Chrome/{random}.0.0.0 Safari/537.36\")\n",
    "\n",
    "driver = webdriver.Chrome(options=opts)\n",
    "driver.get(\"https://auto.1k.by/digital-caracoustics/\")"
   ]
  },
  {
   "cell_type": "code",
   "execution_count": 18,
   "metadata": {},
   "outputs": [],
   "source": [
    "def go_next_page(page):\n",
    "    driver.get(f\"https://auto.1k.by/digital-caracoustics/page{page}\")"
   ]
  },
  {
   "cell_type": "code",
   "execution_count": 13,
   "metadata": {},
   "outputs": [
    {
     "name": "stdout",
     "output_type": "stream",
     "text": [
      "22\n"
     ]
    }
   ],
   "source": [
    "#собрать все с раздела\n",
    "links = []\n",
    "driver = webdriver.Chrome()\n",
    "driver.get(\"https://auto.1k.by/digital-caracoustics/\")\n",
    "\n",
    "\n",
    "accept_cookies = WebDriverWait(driver, 10).until(\n",
    "        EC.element_to_be_clickable((By.XPATH, '//*[@id=\"cookies-informer\"]/div/div[3]/button[4]'))).click()\n",
    "\n",
    "try:\n",
    "    for page in range(1 , int(driver.find_element(By.XPATH, value = '/html/body/div[1]/main/div[3]/div[1]/div[53]/nav/a[6]').get_attribute('textContent')) + 1):\n",
    "        driver.get(f\"https://auto.1k.by/digital-caracoustics/page{page}\")\n",
    "        time.sleep(3)\n",
    "        links.append(get_all_links_on_page())\n",
    "except:\n",
    "    print(\"all done\")\n",
    "finally:\n",
    "    driver.quit()\n",
    "print(len(links))"
   ]
  },
  {
   "cell_type": "code",
   "execution_count": 14,
   "metadata": {},
   "outputs": [
    {
     "name": "stdout",
     "output_type": "stream",
     "text": [
      "1065\n"
     ]
    }
   ],
   "source": [
    "final_links = []\n",
    "for link_list in links:\n",
    "    for link in link_list:\n",
    "        final_links.append(link)\n",
    "\n",
    "print(len(final_links))\n",
    "\n",
    "pd.DataFrame(final_links, columns=[\"url\"]).to_csv(\"links.csv\", index=False, encoding=\"utf-8-sig\")\n"
   ]
  },
  {
   "cell_type": "code",
   "execution_count": 22,
   "metadata": {},
   "outputs": [],
   "source": [
    "from random import randint\n",
    "\n",
    "random = randint(120,140)\n",
    "\n",
    "opts = Options()\n",
    "opts.add_argument(f\"user-agent=Mozilla/5.0 (Windows NT 10.0; Win64; x64) AppleWebKit/537.36 (KHTML, like Gecko) Chrome/{random}.0.0.0 Safari/537.36\")\n",
    "ip = '211.230.49.12'\n",
    "port = '8080'\n",
    "opts.add_argument(f'--proxy-server=http://{ip}:{port}')\n",
    "\n",
    "driver = webdriver.Chrome(options=opts)\n",
    "driver.get(\"https://2ip.ru/\")"
   ]
  },
  {
   "cell_type": "code",
   "execution_count": null,
   "metadata": {},
   "outputs": [
    {
     "name": "stdout",
     "output_type": "stream",
     "text": [
      "          IP Address  Port\n",
      "0     123.58.199.232  8168\n",
      "1     208.102.24.225  8888\n",
      "2     159.203.61.169  3128\n",
      "3      161.35.70.249  8080\n",
      "4     123.30.154.171  7777\n",
      "..               ...   ...\n",
      "124    4.150.160.170  3128\n",
      "127    52.188.28.218  3128\n",
      "130    219.93.101.62    80\n",
      "132  103.249.120.207    80\n",
      "173    198.199.86.11  8080\n",
      "\n",
      "[64 rows x 2 columns]\n"
     ]
    }
   ],
   "source": [
    "import pandas as pd\n",
    "from selenium import webdriver\n",
    "from selenium.webdriver.common.by import By\n",
    "import time\n",
    "\n",
    "\n",
    "driver = webdriver.Chrome()\n",
    " \n",
    "driver.get(\"https://free-proxy-list.net/ru/\")\n",
    "time.sleep(3)\n",
    "\n",
    "\n",
    "headers = driver.find_elements(By.CSS_SELECTOR, \"#list > div > div.table-responsive > div > table > thead > tr > th\")\n",
    "columns = [h.text.strip() for h in headers]\n",
    "\n",
    "rows = driver.find_elements(By.CSS_SELECTOR, \"#list > div > div.table-responsive > div > table > tbody > tr\")\n",
    "\n",
    "table_data = []\n",
    "for row in rows:\n",
    "    cells = row.find_elements(By.TAG_NAME, \"td\")\n",
    "    values = [cell.text.strip() for cell in cells]\n",
    "    if values:\n",
    "        table_data.append(values)\n",
    "\n",
    "df = pd.DataFrame(table_data, columns=columns)\n",
    "\n",
    "df_filtered = df[df[\"Anonymity\"].str.lower() == \"anonymous\"]\n",
    "df_final = df_filtered[[\"IP Address\", \"Port\"]]\n",
    "\n",
    "print(df_final)\n",
    "\n",
    "df_final.to_csv(\"anonymous_proxies.csv\", index=False, encoding=\"utf-8\")\n",
    "\n",
    "driver.quit()"
   ]
  },
  {
   "cell_type": "code",
   "execution_count": null,
   "metadata": {},
   "outputs": [
    {
     "name": "stdout",
     "output_type": "stream",
     "text": [
      "       IP Address  Port\n",
      "0  159.203.61.169  3128\n",
      "1  209.97.150.167  8080\n",
      "2  211.230.49.122  3128\n",
      "3   57.129.81.201   999\n",
      "4     138.68.60.8    80\n",
      "5   198.199.86.11  8080\n"
     ]
    }
   ],
   "source": [
    "import pandas as pd\n",
    "from selenium import webdriver\n",
    "from selenium.webdriver.common.by import By\n",
    "from selenium.webdriver.chrome.options import Options\n",
    "from random import randint\n",
    "import time\n",
    "import json\n",
    "\n",
    "df = pd.read_csv(\"anonymous_proxies.csv\")\n",
    "working = []\n",
    "\n",
    "for index, row in df.iterrows():\n",
    "    ip = row[\"IP Address\"]\n",
    "    port = row[\"Port\"]\n",
    "\n",
    "    try:\n",
    "        random_version = randint(120, 140)\n",
    "        opts = Options()\n",
    "        opts.add_argument(f\"user-agent=Mozilla/5.0 (Windows NT 10.0; Win64; x64) AppleWebKit/537.36 (KHTML, like Gecko) Chrome/{random_version}.0.0.0 Safari/537.36\")\n",
    "        opts.add_argument(f'--proxy-server=http://{ip}:{port}')\n",
    "\n",
    "        driver = webdriver.Chrome(options=opts)\n",
    "        driver.set_page_load_timeout(10)\n",
    "\n",
    "        driver.get(\"https://httpbin.org/ip\")\n",
    "        time.sleep(2)\n",
    "\n",
    "        body_text = driver.find_element(By.TAG_NAME, \"body\").text.strip()\n",
    "        visible_ip = json.loads(body_text)[\"origin\"]\n",
    "\n",
    "        if ip in visible_ip:\n",
    "            working.append([ip, port])\n",
    "\n",
    "        driver.quit()\n",
    "\n",
    "    except Exception as e:\n",
    "        try:\n",
    "            driver.quit()\n",
    "        except:\n",
    "            pass\n",
    "        continue\n",
    "\n",
    "df_working = pd.DataFrame(working, columns=[\"IP Address\", \"Port\"])\n",
    "df_working.to_csv(\"working_proxies.csv\", index=False, encoding=\"utf-8\")\n",
    "print(df_working)\n"
   ]
  },
  {
   "cell_type": "code",
   "execution_count": null,
   "metadata": {},
   "outputs": [],
   "source": [
    "from selenium import webdriver\n",
    "from selenium.webdriver.common.by import By\n",
    "from selenium.webdriver.chrome.options import Options\n",
    "from concurrent.futures import ThreadPoolExecutor\n",
    "from random import randint\n",
    "import pandas as pd\n",
    "import threading\n",
    "import time\n",
    "\n",
    "results_lock = threading.Lock()\n",
    "user_agent_lock = threading.Lock()\n",
    "request_counter = 0\n",
    "\n",
    "def keep_watts(text):\n",
    "    if text and \"Вт\" in text:\n",
    "        return text.strip()\n",
    "    return None\n",
    "\n",
    "def keep_hertz(text):\n",
    "    if text and \"Гц\" in text:\n",
    "        return text.strip()\n",
    "    return None\n",
    "\n",
    "def get_new_driver():\n",
    "    global request_counter\n",
    "    with user_agent_lock:\n",
    "        request_counter += 1\n",
    "        if request_counter % 10 == 0:\n",
    "            random_version = randint(120, 140)\n",
    "        else:\n",
    "            random_version = 120\n",
    "\n",
    "    opts = Options()\n",
    "    opts.add_argument(\"--headless=new\")\n",
    "    opts.add_argument(\"--disable-gpu\")\n",
    "    opts.add_argument(\"--no-sandbox\")\n",
    "    opts.add_argument(\"--window-size=1920,1080\")\n",
    "    opts.add_argument(f\"user-agent=Mozilla/5.0 (Windows NT 10.0; Win64; x64) AppleWebKit/537.36 (KHTML, like Gecko) Chrome/{random_version}.0.0.0 Safari/537.36\")\n",
    "    driver = webdriver.Chrome(options=opts)\n",
    "    driver.set_page_load_timeout(20)\n",
    "    return driver\n",
    "\n",
    "def process_link(link):\n",
    "    global df\n",
    "    driver = None\n",
    "    try:\n",
    "        driver = get_new_driver()\n",
    "        try:\n",
    "            driver.get(link)\n",
    "            time.sleep(2)\n",
    "        except Exception as e:\n",
    "            print(f\"Не удалось загрузить {link}: {e}\")\n",
    "            return\n",
    "\n",
    "        try:\n",
    "            name = driver.find_element(By.XPATH, '/html/body/div[1]/main/div[2]/h1').get_attribute('textContent').strip()\n",
    "        except:\n",
    "            name = None\n",
    "        try:\n",
    "            type_ = driver.find_element(By.XPATH, '//*[@id=\"product-data\"]/div[1]/section/div[1]/div[1]/div[1]/table/tbody/tr[1]/td').get_attribute('textContent').strip()\n",
    "        except:\n",
    "            type_ = None\n",
    "        try:\n",
    "            min_power_raw = driver.find_element(By.XPATH, '//*[@id=\"product-data\"]/div[1]/section/div[1]/div[1]/div[2]/table/tbody/tr[1]/td').get_attribute('textContent')\n",
    "        except:\n",
    "            min_power_raw = None\n",
    "        try:\n",
    "            max_power_raw = driver.find_element(By.XPATH, '//*[@id=\"product-data\"]/div[1]/section/div[1]/div[1]/div[2]/table/tbody/tr[2]/td').get_attribute('textContent')\n",
    "        except:\n",
    "            max_power_raw = None\n",
    "        try:\n",
    "            min_frequency_raw = driver.find_element(By.XPATH, '//*[@id=\"product-data\"]/div[1]/section/div[1]/div[1]/div[3]/table/tbody/tr[1]/td').get_attribute('textContent')\n",
    "        except:\n",
    "            min_frequency_raw = None\n",
    "        try:\n",
    "            max_frequency_raw = driver.find_element(By.XPATH, '//*[@id=\"product-data\"]/div[1]/section/div[1]/div[1]/div[3]/table/tbody/tr[2]/td').get_attribute('textContent')\n",
    "        except:\n",
    "            max_frequency_raw = None\n",
    "\n",
    "        min_power = keep_watts(min_power_raw)\n",
    "        max_power = keep_watts(max_power_raw)\n",
    "        min_frequency = keep_hertz(min_frequency_raw)\n",
    "        max_frequency = keep_hertz(max_frequency_raw)\n",
    "\n",
    "        with results_lock:\n",
    "            df.loc[len(df)] = [name, type_, min_power, max_power, min_frequency, max_frequency, link]\n",
    "\n",
    "    except Exception as e:\n",
    "        print(f\"Ошибка на {link}: {e}\")\n",
    "    finally:\n",
    "        if driver:\n",
    "            driver.quit()\n",
    "\n",
    "with ThreadPoolExecutor(max_workers=5) as executor:\n",
    "    executor.map(process_link, final_links)\n",
    "\n",
    "df.to_csv(\"car_audio_specs_parallel.csv\", index=False, encoding=\"utf-8-sig\")\n"
   ]
  }
 ],
 "metadata": {
  "kernelspec": {
   "display_name": "Python 3",
   "language": "python",
   "name": "python3"
  },
  "language_info": {
   "codemirror_mode": {
    "name": "ipython",
    "version": 3
   },
   "file_extension": ".py",
   "mimetype": "text/x-python",
   "name": "python",
   "nbconvert_exporter": "python",
   "pygments_lexer": "ipython3",
   "version": "3.12.3"
  }
 },
 "nbformat": 4,
 "nbformat_minor": 2
}
